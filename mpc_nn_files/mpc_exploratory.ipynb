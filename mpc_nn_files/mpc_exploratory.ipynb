{
 "cells": [
  {
   "cell_type": "code",
   "execution_count": 1,
   "metadata": {},
   "outputs": [
    {
     "name": "stdout",
     "output_type": "stream",
     "text": [
      "names of files-Encoder ../trained_models/IRL_based_models/IRL_explorepolicy_ais_gen1_816_pred1_24_epochs200_learning_rate0.0003_hidden_states4encoder_rnn_decoder_simple_nn_n_rollout_n_skips_MSELOSS_action_t_included.pth \n",
      "\n",
      "names of files-Decoder ../trained_models/IRL_based_models/IRL_explorepolicy_ais_pred1_24_gen1_816_epochs200_learning_rate0.0003_hidden_states4encoder_rnn_decoder_simple_nn_n_rollout_n_skips_MSELOSS_action_t_included.pth \n",
      "\n",
      "nn_prediction tensor([-60.8954,   7.5233,  -2.0630, -59.4258,   7.1647,  -1.9498, -57.9909,\n",
      "          6.8326,  -1.9006, -56.6597,   6.4936,  -1.8697, -55.4448,   6.1418,\n",
      "         -1.8182, -54.1980,   5.6982,  -1.7081, -53.0972,   5.4217,  -1.6085,\n",
      "        -52.0719,   5.1774,  -1.3852, -51.0500,   4.9402,  -1.1371, -49.9937,\n",
      "          4.7248,  -0.9227], grad_fn=<AddBackward0>)\n",
      "nn_prediction tensor([-5.9024e+01,  5.0453e+00, -5.9781e+00, -5.8140e+01,  3.9529e+00,\n",
      "        -5.5664e+00, -5.7452e+01,  2.9460e+00, -4.9771e+00, -5.6973e+01,\n",
      "         2.0925e+00, -4.2704e+00, -5.6615e+01,  1.4030e+00, -3.4761e+00,\n",
      "        -5.6386e+01,  8.7431e-01, -2.6624e+00, -5.6268e+01,  4.8472e-01,\n",
      "        -1.9695e+00, -5.6194e+01,  1.7130e-01, -1.4153e+00, -5.6157e+01,\n",
      "        -2.6489e-02, -9.9185e-01, -5.6212e+01, -1.4098e-01, -6.6467e-01],\n",
      "       grad_fn=<AddBackward0>)\n",
      "3.8.8\n"
     ]
    }
   ],
   "source": [
    "from mpc_nn_model_exploratory import *\n",
    "from platform import python_version\n",
    "\n",
    "print(python_version())"
   ]
  },
  {
   "cell_type": "code",
   "execution_count": null,
   "metadata": {},
   "outputs": [],
   "source": [
    "####### Parameters #######\n",
    "n_epochs=200\n",
    "min_timesteps=50\n",
    "n_rollout=10\n",
    "n_skips_per_rollout=0\n",
    "n_test=1\n",
    "n_input=6\n",
    "n_output=n_rollout*3 # 3 for each of the next n_rollout time steps\n",
    "n_state_enc=4\n",
    "learning_rate=0.0003\n",
    "gen_model=1\n",
    "pred_model=1\n",
    "#device = torch.device(\"cuda:0\" if torch.cuda.is_available() else \"cpu\")\n",
    "device = torch.device(\"cpu\")\n",
    "\n",
    "## Load the network ##\n",
    "mpc_nn_predictor=MPC_NN_Predictor(n_epochs,min_timesteps,n_rollout,n_skips_per_rollout,n_test,n_input,n_output,n_state_enc,learning_rate,gen_model,pred_model,device)\n",
    "mpc_nn_predictor.load_model_weights(\"encoder_rnn_decoder_simple_nn_n_rollout_n_skips_MSELOSS_action_t_included\")\n",
    "\n"
   ]
  },
  {
   "cell_type": "code",
   "execution_count": null,
   "metadata": {},
   "outputs": [],
   "source": [
    "import numpy as np\n",
    "import matplotlib.pyplot as plt\n",
    "import csv\n",
    "import numpy.linalg as LA\n",
    "from scipy.integrate import odeint\n",
    "from timeit import default_timer as timer\n",
    "from scipy.optimize import fmin, minimize"
   ]
  },
  {
   "cell_type": "code",
   "execution_count": null,
   "metadata": {},
   "outputs": [],
   "source": [
    "import sys\n",
    "if sys.platform == 'win32' or sys.platform == 'win64': # Change to suit the OS\n",
    "    sys.path.append(r\"C:\\Users\\vietale\\Documents\\casadi-windows-py39-v3.5.5-64bit\")\n",
    "else:\n",
    "    sys.path.append(r\"casadiinstalldir\")\n",
    "import casadi as ca"
   ]
  }
 ],
 "metadata": {
  "kernelspec": {
   "display_name": "base",
   "language": "python",
   "name": "python3"
  },
  "language_info": {
   "codemirror_mode": {
    "name": "ipython",
    "version": 3
   },
   "file_extension": ".py",
   "mimetype": "text/x-python",
   "name": "python",
   "nbconvert_exporter": "python",
   "pygments_lexer": "ipython3",
   "version": "3.8.8"
  },
  "orig_nbformat": 4
 },
 "nbformat": 4,
 "nbformat_minor": 2
}
