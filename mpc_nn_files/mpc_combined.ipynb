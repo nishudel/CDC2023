{
 "cells": [
  {
   "cell_type": "code",
   "execution_count": 1,
   "metadata": {},
   "outputs": [
    {
     "name": "stdout",
     "output_type": "stream",
     "text": [
      "names of files-Encoder ../trained_models/IRL_based_models/IRL_SVOpolicy_ais_gen1_816_pred1_24_epochs200_learning_rate0.0003_hidden_states4encoder_rnn_decoder_simple_nn_n_rollout_n_skips_MSELOSS_action_t_included_for_results.pth \n",
      "\n",
      "names of files-Decoder ../trained_models/IRL_based_models/IRL_SVOpolicy_ais_pred1_24_gen1_816_epochs200_learning_rate0.0003_hidden_states4encoder_rnn_decoder_simple_nn_n_rollout_n_skips_MSELOSS_action_t_included_for_results.pth \n",
      "\n",
      "nn_prediction tensor([-60.2943,   8.5563,   1.4931, -58.6863,   8.8705,   1.3542, -56.8856,\n",
      "          9.0544,   1.2097, -55.0500,   9.2054,   1.0604, -53.1999,   9.4246,\n",
      "          0.9507, -51.2506,   9.5566,   0.8184, -49.4157,   9.6684,   0.6685,\n",
      "        -47.5042,   9.6339,   0.5680, -45.5699,   9.8314,   0.4852, -43.5963,\n",
      "          9.8108,   0.3748], grad_fn=<AddBackward0>)\n",
      "nn_prediction tensor([-55.4833,   4.6515,   0.3003, -54.5884,   4.6903,   0.2940, -53.6729,\n",
      "          4.7835,   0.2710, -52.6217,   4.8115,   0.2327, -51.7348,   4.9012,\n",
      "          0.2132, -50.6945,   4.9751,   0.1866, -49.6854,   5.0059,   0.1409,\n",
      "        -48.7457,   5.0098,   0.1148, -47.6844,   5.0713,   0.0982, -46.7418,\n",
      "          5.0360,   0.0556], grad_fn=<AddBackward0>)\n",
      "names of files-Encoder ../trained_models/IRL_based_models/IRL_explorepolicy_ais_gen1_816_pred1_24_epochs200_learning_rate0.0003_hidden_states4encoder_rnn_decoder_simple_nn_n_rollout_n_skips_MSELOSS_action_t_included.pth \n",
      "\n",
      "names of files-Decoder ../trained_models/IRL_based_models/IRL_explorepolicy_ais_pred1_24_gen1_816_epochs200_learning_rate0.0003_hidden_states4encoder_rnn_decoder_simple_nn_n_rollout_n_skips_MSELOSS_action_t_included.pth \n",
      "\n",
      "3.8.8\n"
     ]
    }
   ],
   "source": [
    "from mpc_nn_model_safe import *\n",
    "from mpc_nn_model_exploratory import *\n",
    "import mpc_nn_model_safe as mpc_safe\n",
    "import mpc_nn_model_exploratory as mpc_exploratory\n",
    "from platform import python_version\n",
    "\n",
    "print(python_version())"
   ]
  },
  {
   "cell_type": "code",
   "execution_count": 2,
   "metadata": {},
   "outputs": [
    {
     "name": "stdout",
     "output_type": "stream",
     "text": [
      "names of files-Encoder ../trained_models/IRL_based_models/IRL_SVOpolicy_ais_gen1_816_pred1_24_epochs200_learning_rate0.0003_hidden_states4encoder_rnn_decoder_simple_nn_n_rollout_n_skips_MSELOSS_action_t_included_for_results.pth \n",
      "\n",
      "names of files-Decoder ../trained_models/IRL_based_models/IRL_SVOpolicy_ais_pred1_24_gen1_816_epochs200_learning_rate0.0003_hidden_states4encoder_rnn_decoder_simple_nn_n_rollout_n_skips_MSELOSS_action_t_included_for_results.pth \n",
      "\n"
     ]
    },
    {
     "data": {
      "text/plain": [
       "'loaded the weights!'"
      ]
     },
     "execution_count": 2,
     "metadata": {},
     "output_type": "execute_result"
    }
   ],
   "source": [
    "################################################################\n",
    "###################### FOR SAFE POLICY #########################\n",
    "####### Parameters #######\n",
    "n_epochs=200\n",
    "min_timesteps=50\n",
    "n_rollout=10\n",
    "n_skips_per_rollout=0\n",
    "n_test=1\n",
    "n_input=6\n",
    "n_output=n_rollout*3 # 3 for each of the next n_rollout time steps\n",
    "n_state_enc=4\n",
    "learning_rate=0.0003\n",
    "gen_model=1\n",
    "pred_model=1\n",
    "#device = torch.device(\"cuda:0\" if torch.cuda.is_available() else \"cpu\")\n",
    "device = torch.device(\"cpu\")\n",
    "\n",
    "## Load the network ##\n",
    "mpc_nn_predictor_safe=mpc_safe.MPC_NN_Predictor(n_epochs,min_timesteps,n_rollout,n_skips_per_rollout,n_test,n_input,n_output,n_state_enc,learning_rate,gen_model,pred_model,device)\n",
    "mpc_nn_predictor_safe.load_model_weights(\"encoder_rnn_decoder_simple_nn_n_rollout_n_skips_MSELOSS_action_t_included_for_results\")\n",
    "\n",
    "###################### FOR SAFE POLICY #########################\n",
    "################################################################\n",
    "\n"
   ]
  },
  {
   "cell_type": "code",
   "execution_count": 3,
   "metadata": {},
   "outputs": [
    {
     "name": "stdout",
     "output_type": "stream",
     "text": [
      "names of files-Encoder ../trained_models/IRL_based_models/IRL_explorepolicy_ais_gen1_816_pred1_24_epochs200_learning_rate0.0003_hidden_states4encoder_rnn_decoder_simple_nn_n_rollout_n_skips_MSELOSS_action_t_included.pth \n",
      "\n",
      "names of files-Decoder ../trained_models/IRL_based_models/IRL_explorepolicy_ais_pred1_24_gen1_816_epochs200_learning_rate0.0003_hidden_states4encoder_rnn_decoder_simple_nn_n_rollout_n_skips_MSELOSS_action_t_included.pth \n",
      "\n"
     ]
    },
    {
     "data": {
      "text/plain": [
       "'loaded the weights!'"
      ]
     },
     "execution_count": 3,
     "metadata": {},
     "output_type": "execute_result"
    }
   ],
   "source": [
    "#######################################################################\n",
    "###################### FOR EXPLORATORY POLICY #########################\n",
    "####### Parameters #######\n",
    "n_epochs=200\n",
    "min_timesteps=50\n",
    "n_rollout=10\n",
    "n_skips_per_rollout=0\n",
    "n_test=1\n",
    "n_input=6\n",
    "n_output=n_rollout*3 # 3 for each of the next n_rollout time steps\n",
    "n_state_enc=4\n",
    "learning_rate=0.0003\n",
    "gen_model=1\n",
    "pred_model=1\n",
    "#device = torch.device(\"cuda:0\" if torch.cuda.is_available() else \"cpu\")\n",
    "device = torch.device(\"cpu\")\n",
    "\n",
    "## Load the network ##\n",
    "mpc_nn_predictor_exploratory=mpc_exploratory.MPC_NN_Predictor(n_epochs,min_timesteps,n_rollout,n_skips_per_rollout,n_test,n_input,n_output,n_state_enc,learning_rate,gen_model,pred_model,device)\n",
    "mpc_nn_predictor_exploratory.load_model_weights(\"encoder_rnn_decoder_simple_nn_n_rollout_n_skips_MSELOSS_action_t_included\")\n",
    "\n",
    "###################### FOR EXPLORATORY POLICY #########################\n",
    "#######################################################################\n"
   ]
  },
  {
   "cell_type": "code",
   "execution_count": 4,
   "metadata": {},
   "outputs": [],
   "source": [
    "import numpy as np\n",
    "import matplotlib.pyplot as plt\n",
    "import csv\n",
    "import numpy.linalg as LA\n",
    "from scipy.integrate import odeint\n",
    "from timeit import default_timer as timer\n",
    "from scipy.optimize import fmin, minimize"
   ]
  },
  {
   "cell_type": "code",
   "execution_count": 5,
   "metadata": {},
   "outputs": [],
   "source": [
    "import sys\n",
    "if sys.platform == 'win32' or sys.platform == 'win64': # Change to suit the OS\n",
    "    sys.path.append(r\"C:\\Users\\vietale\\Documents\\casadi-windows-py39-v3.5.5-64bit\")\n",
    "else:\n",
    "    sys.path.append(r\"casadiinstalldir\")\n",
    "import casadi as ca"
   ]
  },
  {
   "cell_type": "code",
   "execution_count": 6,
   "metadata": {},
   "outputs": [],
   "source": [
    "from vehicle import *"
   ]
  },
  {
   "cell_type": "code",
   "execution_count": 46,
   "metadata": {},
   "outputs": [],
   "source": [
    "class MPC:\n",
    "    \n",
    "    def __init__(self, H, T, bounds):\n",
    "        self.H = H; self.T = T\n",
    "        self.u_min = bounds['u_min']; self.u_max = bounds['u_max']\n",
    "        self.v_min = bounds['v_min']; self.v_max = bounds['v_max']\n",
    "\n",
    "    def set_state(self, st, input):\n",
    "        self.input = input\n",
    "        self.state = st\n",
    "        \n",
    "    def set_road_info(self, r):\n",
    "        self.r = r\n",
    "        \n",
    "    def set_weight(self, W1, W12):\n",
    "        self.W1 = W1; self.W12 = W12\n",
    "\n",
    "    def compute_objective(self, PA, VA, UA, PH, VH):\n",
    "        cost = 0\n",
    "        for k in range(self.H):\n",
    "            cost += self.W1[0]*UA[k]**2 + self.W1[1]*(VA[k] - self.v_max)**2\n",
    "            cost += -self.W12*ca.log((PA[k]+0.5*VA[k])**2 + (PH[k]+0.5*VH[k])**2 + 1e-6) \n",
    "\n",
    "        return cost\n",
    "\n",
    "    def formulateMPC(self):\n",
    "        # Create MPC optimizer\n",
    "        self.mpc_opti = ca.Opti()\n",
    "        \n",
    "        # Variables for CAV\n",
    "        self.U = self.mpc_opti.variable(self.H)\n",
    "        self.V = self.mpc_opti.variable(self.H)\n",
    "        self.P = self.mpc_opti.variable(self.H)\n",
    "            \n",
    "        self.X0 = self.mpc_opti.parameter(2) # initial condition of CAV state\n",
    "        self.PH = self.mpc_opti.parameter(self.H) # the positions of the HDV over the horizon\n",
    "        self.VH = self.mpc_opti.parameter(self.H) # the speeds of the HDV over the horizon\n",
    "\n",
    "        # Objective function\n",
    "        self.J = 0\n",
    "        for k in range(self.H):\n",
    "            self.J += self.W1[0]*self.U[k]**2 + self.W1[1]*(self.V[k] - self.v_max)**2\n",
    "            self.J += -self.W12*ca.log((self.P[k]+0.5*self.V[k])**2 + (self.PH[k]+0.5*self.VH[k])**2 + 1e-6)\n",
    "            if k == 0:\n",
    "                self.J += self.W1[2]*(self.U[k]- self.input)**2\n",
    "            else:\n",
    "                self.J += self.W1[2]*(self.U[k]- self.U[k-1])**2\n",
    "        \n",
    "        self.mpc_opti.minimize(self.J) \n",
    "        \n",
    "        # Dynamics\n",
    "        for k in range(self.H):\n",
    "            if k == 0:\n",
    "                self.mpc_opti.subject_to(self.P[k] == self.X0[0] + self.T*self.X0[1] \\\n",
    "                                            + 0.5*self.T**2*self.U[k])\n",
    "                self.mpc_opti.subject_to(self.V[k] == self.X0[1] + self.T*self.U[k])            \n",
    "            else:\n",
    "                self.mpc_opti.subject_to(self.P[k] == self.P[k-1] + self.T*self.V[k-1] \\\n",
    "                                            + 0.5*self.T**2*self.U[k])\n",
    "                self.mpc_opti.subject_to(self.V[k] == self.V[k-1] + self.T*self.U[k])\n",
    "            \n",
    "         # Constraints\n",
    "        self.mpc_opti.subject_to(self.v_min <= self.V)\n",
    "        self.mpc_opti.subject_to(self.V <= self.v_max)\n",
    "        self.mpc_opti.subject_to(self.u_min <= self.U)\n",
    "        self.mpc_opti.subject_to(self.U <= self.u_max)\n",
    "        # self.D = (self.P+1.0*self.V)**2 + (self.PH+1.0*self.VH)**2 \n",
    "        # self.mpc_opti.subject_to(self.r**2 <= self.D)\n",
    "        \n",
    "        p_opts = {'verbose_init': False, 'print_time': 0}\n",
    "        s_opts = {'tol': 0.001, 'print_level': 0, 'max_iter': 100}\n",
    "        self.mpc_opti.solver('ipopt', p_opts, s_opts)\n",
    "\n",
    "        # Warm up\n",
    "        self.mpc_opti.set_value(self.X0, self.state)\n",
    "        self.mpc_opti.set_value(self.PH, np.zeros(self.H))\n",
    "        self.mpc_opti.set_value(self.VH, np.zeros(self.H))\n",
    "         \n",
    "        try:\n",
    "            sol = self.mpc_opti.solve()\n",
    "            \n",
    "        except RuntimeError:\n",
    "            print(\"An exception occurred\")\n",
    "            self.mpc_opti.set_initial(self.U, self.mpc_opti.debug.value(self.U))\n",
    "        else:\n",
    "            self.mpc_opti.set_initial(self.U, sol.value(self.U))\n",
    "            self.mpc_opti.set_initial(self.V, sol.value(self.V))\n",
    "            self.mpc_opti.set_initial(self.P, sol.value(self.P))\n",
    "        \n",
    "    def solveMPC(self, PH, VH):\n",
    "        self.mpc_opti.set_value(self.X0, self.state)\n",
    "        self.mpc_opti.set_value(self.PH, PH)\n",
    "        self.mpc_opti.set_value(self.VH, VH)\n",
    "\n",
    "        try:\n",
    "            sol = self.mpc_opti.solve()\n",
    "        except RuntimeError:\n",
    "            print(\"An exception occurred\")\n",
    "            OUT = {'P': sol.value(self.P), 'V': self.mpc_opti.debug.value(self.V), 'U': self.mpc_opti.debug.value(self.U)}\n",
    "        else:\n",
    "            OUT = {'P': self.mpc_opti.debug.value(self.P), 'V': sol.value(self.V), 'U': sol.value(self.U)} \n",
    "            self.mpc_opti.set_initial(self.U, np.hstack((sol.value(self.U)[1:], sol.value(self.U)[-1:])))    \n",
    "            self.mpc_opti.set_initial(self.V, np.hstack((sol.value(self.V)[1:], sol.value(self.V)[-1:])))    \n",
    "            self.mpc_opti.set_initial(self.P, np.hstack((sol.value(self.P)[1:], sol.value(self.P)[-1:])))    \n",
    "                      \n",
    "        return OUT\n"
   ]
  },
  {
   "cell_type": "markdown",
   "metadata": {},
   "source": [
    "## Main simulation"
   ]
  },
  {
   "cell_type": "code",
   "execution_count": 61,
   "metadata": {},
   "outputs": [],
   "source": [
    "def MPC_with_exploratory(p_init, v_init, W2):\n",
    "    T = 0.2; H = 10; Ts = 0.05\n",
    "    bounds = {'v_min' : 0.0, 'v_max' : 14.0, 'u_min' : -3.0, 'u_max' : 2.0}\n",
    "    r = 10.0 \n",
    "\n",
    "    Cars = []\n",
    "    Cars.append(CAV(p_init[0], v_init[0], bounds, T, Ts))\n",
    "    Cars.append(HDV(p_init[1], v_init[1], bounds, T, Ts))\n",
    "\n",
    "    control = MPC(H, T, bounds)\n",
    "    control.set_road_info(r)\n",
    "    control.set_state(Cars[0].state, Cars[0].u)\n",
    "    W1 = np.array([1e0,1e1,1e1])\n",
    "    W2 = np.array([1e-2,1e0]); W12 = 1e3\n",
    "    control.set_weight(W1, W12)\n",
    "    control.formulateMPC()\n",
    "    latest_observation=[Cars[0].p, Cars[1].p, Cars[0].v, Cars[1].v]\n",
    "    previous_action=[Cars[0].u, Cars[1].u]\n",
    "    #ais_encoder_previous=0\n",
    "\n",
    "    ais_encoder_previous_exploratory=0\n",
    "\n",
    "    Cars[0].const_U(0.0, 0.0)\n",
    "    Cars[1].const_U(Cars[1].IRL(Cars[0].state, np.hstack([W2, W12])), 0.0)\n",
    "\n",
    "    current_CAV_action = 0.0\n",
    "    nn_prediction,ais_encoder_previous_exploratory=mpc_nn_predictor_exploratory.nn_prediction_model(latest_observation,previous_action,ais_encoder_previous_exploratory,current_CAV_action,time_step=0)\n",
    "    prediction = nn_prediction.detach().cpu().numpy()\n",
    "    prediction = prediction.reshape([3,-1], order = 'F')\n",
    "\n",
    "    L = 100 # number of simulation steps\n",
    "    ite = 5\n",
    "    travel_time = 0\n",
    "    for k in range(L):\n",
    "        t = (k+1)*T\n",
    "        # print(\"Time %s\" %t)\n",
    "        control.set_state(Cars[0].state, Cars[0].u)\n",
    "\n",
    "        latest_observation=[Cars[0].p, Cars[1].p, Cars[0].v, Cars[1].v]\n",
    "        previous_action=[Cars[0].u, Cars[1].u]\n",
    "\n",
    "        COST = []\n",
    "        U1 = [0.0]; current_CAV_action = 0.0\n",
    "        for i in range(ite):\n",
    "            nn_prediction,ais_encoder_previous_exploratory=mpc_nn_predictor_exploratory.nn_prediction_model(latest_observation,previous_action,ais_encoder_previous_exploratory,current_CAV_action,time_step=0)\n",
    "            prediction = nn_prediction.detach().cpu().numpy()\n",
    "            prediction = prediction.reshape([3,-1], order = 'F')\n",
    "            PH = prediction[0,:]; VH = prediction[1,:]\n",
    "            TRAJ = control.solveMPC(PH, VH)\n",
    "            c = control.compute_objective(TRAJ['P'], TRAJ['V'], TRAJ['U'], PH, VH)\n",
    "            COST.append(c)\n",
    "            current_CAV_action = TRAJ['U'][0]\n",
    "            U1.append(current_CAV_action)\n",
    "\n",
    "        # print(COST, U1)\n",
    "        u1 = U1[-1]\n",
    "        u2 = Cars[1].IRL(Cars[0].state, np.hstack([W2, W12]))\n",
    "        U = [u1, u2]\n",
    "        Cars[0].const_U(u1, t)\n",
    "        Cars[1].const_U(u2, t)\n",
    "\n",
    "        if Cars[0].p > 0.0:\n",
    "            travel_time = T*k\n",
    "            break\n",
    "        \n",
    "    safe = all((Cars[0].X_hist[0,:]**2 + Cars[1].X_hist[0,:]**2) >= r**2)\n",
    "    return safe, travel_time\n"
   ]
  },
  {
   "cell_type": "code",
   "execution_count": 62,
   "metadata": {},
   "outputs": [],
   "source": [
    "def MPC_with_safe(p_init, v_init, W2):\n",
    "    T = 0.2; H = 10; Ts = 0.05\n",
    "    bounds = {'v_min' : 0.0, 'v_max' : 14.0, 'u_min' : -3.0, 'u_max' : 2.0}\n",
    "    r = 10.0 \n",
    "\n",
    "    Cars = []\n",
    "    Cars.append(CAV(p_init[0], v_init[0], bounds, T, Ts))\n",
    "    Cars.append(HDV(p_init[1], v_init[1], bounds, T, Ts))\n",
    "\n",
    "    control = MPC(H, T, bounds)\n",
    "    control.set_road_info(r)\n",
    "    control.set_state(Cars[0].state, Cars[0].u)\n",
    "    W1 = np.array([1e0,1e1,1e1])\n",
    "    W2 = np.array([1e-2,1e0]); W12 = 1e3\n",
    "    control.set_weight(W1, W12)\n",
    "    control.formulateMPC()\n",
    "    latest_observation=[Cars[0].p, Cars[1].p, Cars[0].v, Cars[1].v]\n",
    "    previous_action=[Cars[0].u, Cars[1].u]\n",
    "    #ais_encoder_previous=0\n",
    "\n",
    "    ais_encoder_previous_safe=0\n",
    "\n",
    "    Cars[0].const_U(0.0, 0.0)\n",
    "    Cars[1].const_U(Cars[1].IRL(Cars[0].state, np.hstack([W2, W12])), 0.0)\n",
    "\n",
    "    current_CAV_action = 0.0\n",
    "    nn_prediction,ais_encoder_previous_safe=mpc_nn_predictor_safe.nn_prediction_model(latest_observation,previous_action,ais_encoder_previous_safe,current_CAV_action,time_step=0)\n",
    "    prediction = nn_prediction.detach().cpu().numpy()\n",
    "    prediction = prediction.reshape([3,-1], order = 'F')\n",
    "\n",
    "    L = 100 # number of simulation steps\n",
    "    ite = 5\n",
    "    travel_time = 0\n",
    "    for k in range(L):\n",
    "        t = (k+1)*T\n",
    "        # print(\"Time %s\" %t)\n",
    "        control.set_state(Cars[0].state, Cars[0].u)\n",
    "\n",
    "        latest_observation=[Cars[0].p, Cars[1].p, Cars[0].v, Cars[1].v]\n",
    "        previous_action=[Cars[0].u, Cars[1].u]\n",
    "\n",
    "        COST = []\n",
    "        U1 = [0.0]; current_CAV_action = 0.0\n",
    "        for i in range(ite):\n",
    "            nn_prediction,ais_encoder_previous_safe=mpc_nn_predictor_safe.nn_prediction_model(latest_observation,previous_action,ais_encoder_previous_safe,current_CAV_action,time_step=0)\n",
    "            prediction = nn_prediction.detach().cpu().numpy()\n",
    "            prediction = prediction.reshape([3,-1], order = 'F')\n",
    "            PH = prediction[0,:]; VH = prediction[1,:]\n",
    "            TRAJ = control.solveMPC(PH, VH)\n",
    "            c = control.compute_objective(TRAJ['P'], TRAJ['V'], TRAJ['U'], PH, VH)\n",
    "            COST.append(c)\n",
    "            current_CAV_action = TRAJ['U'][0]\n",
    "            U1.append(current_CAV_action)\n",
    "\n",
    "        # print(COST, U1)\n",
    "        u1 = U1[-1]\n",
    "        u2 = Cars[1].IRL(Cars[0].state, np.hstack([W2, W12]))\n",
    "        U = [u1, u2]\n",
    "        Cars[0].const_U(u1, t)\n",
    "        Cars[1].const_U(u2, t)\n",
    "\n",
    "        if Cars[0].p > 0.0:\n",
    "            travel_time = T*k\n",
    "            break\n",
    "        \n",
    "    safe = all((Cars[0].X_hist[0,:]**2 + Cars[1].X_hist[0,:]**2) >= r**2)\n",
    "    return safe, travel_time"
   ]
  },
  {
   "cell_type": "code",
   "execution_count": 66,
   "metadata": {},
   "outputs": [
    {
     "name": "stdout",
     "output_type": "stream",
     "text": [
      "Simulation 1\n",
      "Simulation 2\n",
      "Simulation 3\n",
      "Simulation 4\n",
      "Simulation 5\n"
     ]
    }
   ],
   "source": [
    "# This loop is to run multiple simulations to get statistics\n",
    "np.random.seed(28)\n",
    "Safe_stats = {\"Safe\": [], \"Time\": []}\n",
    "Expl_stats = {\"Safe\": [], \"Time\": []}\n",
    "for k in range(5):\n",
    "    print((\"Simulation %s\" %(k+1)))\n",
    "    p_init = np.random.uniform(low = -80, high = -60, size = 2)\n",
    "    v_init = np.random.uniform(low = 10, high = 14, size = 2)\n",
    "    W2 = 10**np.random.uniform(low = -2, high = 2, size = 2)\n",
    "    s, t = MPC_with_safe(p_init, v_init, W2)\n",
    "    Safe_stats[\"Safe\"].append(s); Safe_stats[\"Time\"].append(t)\n",
    "    s, t = MPC_with_exploratory(p_init, v_init, W2)\n",
    "    Expl_stats[\"Safe\"].append(s); Expl_stats[\"Time\"].append(t)\n"
   ]
  },
  {
   "cell_type": "code",
   "execution_count": 67,
   "metadata": {},
   "outputs": [
    {
     "data": {
      "text/plain": [
       "{'Safe': [True, True, False, True, True],\n",
       " 'Time': [6.6000000000000005, 7.0, 5.0, 7.4, 6.800000000000001]}"
      ]
     },
     "execution_count": 67,
     "metadata": {},
     "output_type": "execute_result"
    }
   ],
   "source": [
    "Expl_stats"
   ]
  },
  {
   "cell_type": "code",
   "execution_count": 68,
   "metadata": {},
   "outputs": [
    {
     "data": {
      "text/plain": [
       "{'Safe': [True, True, True, True, True],\n",
       " 'Time': [6.0, 5.800000000000001, 6.6000000000000005, 6.2, 5.6000000000000005]}"
      ]
     },
     "execution_count": 68,
     "metadata": {},
     "output_type": "execute_result"
    }
   ],
   "source": [
    "Safe_stats"
   ]
  },
  {
   "cell_type": "code",
   "execution_count": null,
   "metadata": {},
   "outputs": [],
   "source": []
  }
 ],
 "metadata": {
  "kernelspec": {
   "display_name": "base",
   "language": "python",
   "name": "python3"
  },
  "language_info": {
   "codemirror_mode": {
    "name": "ipython",
    "version": 3
   },
   "file_extension": ".py",
   "mimetype": "text/x-python",
   "name": "python",
   "nbconvert_exporter": "python",
   "pygments_lexer": "ipython3",
   "version": "3.8.8"
  },
  "orig_nbformat": 4
 },
 "nbformat": 4,
 "nbformat_minor": 2
}
